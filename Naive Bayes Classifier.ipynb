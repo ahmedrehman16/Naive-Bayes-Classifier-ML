{
 "cells": [
  {
   "cell_type": "code",
   "execution_count": 1,
   "id": "personalized-nation",
   "metadata": {},
   "outputs": [
    {
     "data": {
      "text/html": [
       "<div>\n",
       "<style scoped>\n",
       "    .dataframe tbody tr th:only-of-type {\n",
       "        vertical-align: middle;\n",
       "    }\n",
       "\n",
       "    .dataframe tbody tr th {\n",
       "        vertical-align: top;\n",
       "    }\n",
       "\n",
       "    .dataframe thead th {\n",
       "        text-align: right;\n",
       "    }\n",
       "</style>\n",
       "<table border=\"1\" class=\"dataframe\">\n",
       "  <thead>\n",
       "    <tr style=\"text-align: right;\">\n",
       "      <th></th>\n",
       "      <th>department</th>\n",
       "      <th>status</th>\n",
       "      <th>age</th>\n",
       "      <th>salary</th>\n",
       "    </tr>\n",
       "  </thead>\n",
       "  <tbody>\n",
       "    <tr>\n",
       "      <th>0</th>\n",
       "      <td>sales</td>\n",
       "      <td>senior</td>\n",
       "      <td>31-35</td>\n",
       "      <td>46k-50k</td>\n",
       "    </tr>\n",
       "    <tr>\n",
       "      <th>1</th>\n",
       "      <td>sales</td>\n",
       "      <td>junior</td>\n",
       "      <td>26-30</td>\n",
       "      <td>26k-30k</td>\n",
       "    </tr>\n",
       "    <tr>\n",
       "      <th>2</th>\n",
       "      <td>sales</td>\n",
       "      <td>junior</td>\n",
       "      <td>31-35</td>\n",
       "      <td>31k-35k</td>\n",
       "    </tr>\n",
       "    <tr>\n",
       "      <th>3</th>\n",
       "      <td>systems</td>\n",
       "      <td>junior</td>\n",
       "      <td>21-25</td>\n",
       "      <td>46k-50k</td>\n",
       "    </tr>\n",
       "    <tr>\n",
       "      <th>4</th>\n",
       "      <td>systems</td>\n",
       "      <td>senior</td>\n",
       "      <td>31-35</td>\n",
       "      <td>66k-70k</td>\n",
       "    </tr>\n",
       "    <tr>\n",
       "      <th>5</th>\n",
       "      <td>systems</td>\n",
       "      <td>junior</td>\n",
       "      <td>26-30</td>\n",
       "      <td>46k-50k</td>\n",
       "    </tr>\n",
       "    <tr>\n",
       "      <th>6</th>\n",
       "      <td>systems</td>\n",
       "      <td>senior</td>\n",
       "      <td>41-45</td>\n",
       "      <td>66k-70k</td>\n",
       "    </tr>\n",
       "    <tr>\n",
       "      <th>7</th>\n",
       "      <td>marketing</td>\n",
       "      <td>senior</td>\n",
       "      <td>36-40</td>\n",
       "      <td>46k-50k</td>\n",
       "    </tr>\n",
       "    <tr>\n",
       "      <th>8</th>\n",
       "      <td>marketing</td>\n",
       "      <td>junior</td>\n",
       "      <td>31-35</td>\n",
       "      <td>41k-45k</td>\n",
       "    </tr>\n",
       "    <tr>\n",
       "      <th>9</th>\n",
       "      <td>secretary</td>\n",
       "      <td>senior</td>\n",
       "      <td>46-50</td>\n",
       "      <td>36k-40k</td>\n",
       "    </tr>\n",
       "    <tr>\n",
       "      <th>10</th>\n",
       "      <td>secretary</td>\n",
       "      <td>junior</td>\n",
       "      <td>26-30</td>\n",
       "      <td>26k-30k</td>\n",
       "    </tr>\n",
       "  </tbody>\n",
       "</table>\n",
       "</div>"
      ],
      "text/plain": [
       "   department  status    age   salary\n",
       "0       sales  senior  31-35  46k-50k\n",
       "1       sales  junior  26-30  26k-30k\n",
       "2       sales  junior  31-35  31k-35k\n",
       "3     systems  junior  21-25  46k-50k\n",
       "4     systems  senior  31-35  66k-70k\n",
       "5     systems  junior  26-30  46k-50k\n",
       "6     systems  senior  41-45  66k-70k\n",
       "7   marketing  senior  36-40  46k-50k\n",
       "8   marketing  junior  31-35  41k-45k\n",
       "9   secretary  senior  46-50  36k-40k\n",
       "10  secretary  junior  26-30  26k-30k"
      ]
     },
     "execution_count": 1,
     "metadata": {},
     "output_type": "execute_result"
    }
   ],
   "source": [
    "import numpy as np\n",
    "import pandas as pd\n",
    "\n",
    "dept = ['sales', 'system', 'marketing', 'secretary']\n",
    "age = ['21-25', '26-30', '31-35', '36-40', '41-45', '46-50']\n",
    "salary = ['26k-30k', '31k-35k', '36k-40k', '41k-45k', '46k-50k', '51k-55k', '56k-60k', '61k-65k', '66k-70k']\n",
    "status = ['senior', 'junior']\n",
    "\n",
    "data = pd.read_csv(\"data.csv\")\n",
    "data"
   ]
  },
  {
   "cell_type": "code",
   "execution_count": 6,
   "id": "assured-minneapolis",
   "metadata": {},
   "outputs": [
    {
     "data": {
      "text/plain": [
       "array([0.46153846, 0.53846154])"
      ]
     },
     "execution_count": 6,
     "metadata": {},
     "output_type": "execute_result"
    }
   ],
   "source": [
    "# Training\n",
    "laplace = 1\n",
    "def prior_prob(data):\n",
    "    status_unique = data.status.unique()\n",
    "    prior_probability = np.zeros(len(data.status.unique()))\n",
    "    for i in range(0, len(status_unique)):\n",
    "        s = sum(data['status'] == status_unique[i]) + laplace\n",
    "        total_sum = len(data['status']) + 2*laplace\n",
    "        prior_probability[i] = s/total_sum\n",
    "    return prior_probability\n",
    "        \n",
    "prior_probabality = prior_prob(data)\n",
    "prior_probabality"
   ]
  },
  {
   "cell_type": "code",
   "execution_count": 7,
   "id": "existing-queensland",
   "metadata": {},
   "outputs": [
    {
     "data": {
      "text/html": [
       "<div>\n",
       "<style scoped>\n",
       "    .dataframe tbody tr th:only-of-type {\n",
       "        vertical-align: middle;\n",
       "    }\n",
       "\n",
       "    .dataframe tbody tr th {\n",
       "        vertical-align: top;\n",
       "    }\n",
       "\n",
       "    .dataframe thead th {\n",
       "        text-align: right;\n",
       "    }\n",
       "</style>\n",
       "<table border=\"1\" class=\"dataframe\">\n",
       "  <thead>\n",
       "    <tr style=\"text-align: right;\">\n",
       "      <th></th>\n",
       "      <th>sales</th>\n",
       "      <th>systems</th>\n",
       "      <th>marketing</th>\n",
       "      <th>secretary</th>\n",
       "    </tr>\n",
       "  </thead>\n",
       "  <tbody>\n",
       "    <tr>\n",
       "      <th>senior</th>\n",
       "      <td>0.222222</td>\n",
       "      <td>0.333333</td>\n",
       "      <td>0.222222</td>\n",
       "      <td>0.222222</td>\n",
       "    </tr>\n",
       "    <tr>\n",
       "      <th>junior</th>\n",
       "      <td>0.300000</td>\n",
       "      <td>0.300000</td>\n",
       "      <td>0.200000</td>\n",
       "      <td>0.200000</td>\n",
       "    </tr>\n",
       "  </tbody>\n",
       "</table>\n",
       "</div>"
      ],
      "text/plain": [
       "           sales   systems  marketing  secretary\n",
       "senior  0.222222  0.333333   0.222222   0.222222\n",
       "junior  0.300000  0.300000   0.200000   0.200000"
      ]
     },
     "execution_count": 7,
     "metadata": {},
     "output_type": "execute_result"
    }
   ],
   "source": [
    "def dept_probs(data):\n",
    "    status_unique = data.status.unique()\n",
    "    dept_unique = data.department.unique()\n",
    "    cond_prob = np.zeros((len(status_unique), len(dept_unique)))\n",
    "    for a in range(0, len(status_unique)):\n",
    "        for b in range(0, len(dept_unique)):\n",
    "            count = data.loc[(data['department'] == dept_unique[b]) & (data['status'] == status_unique[a]),].shape[0] + laplace\n",
    "            total = sum(data[\"status\"] == status_unique[a]) + len(dept_unique) * laplace\n",
    "            cond_prob[a][b] = count / total\n",
    "            \n",
    "    cond_prob = pd.DataFrame(cond_prob, columns=dept_unique, index=status_unique)   \n",
    "    return cond_prob\n",
    "dept_prob_df = dept_probs(data)\n",
    "dept_prob_df"
   ]
  },
  {
   "cell_type": "code",
   "execution_count": 8,
   "id": "magnetic-native",
   "metadata": {},
   "outputs": [
    {
     "data": {
      "text/html": [
       "<div>\n",
       "<style scoped>\n",
       "    .dataframe tbody tr th:only-of-type {\n",
       "        vertical-align: middle;\n",
       "    }\n",
       "\n",
       "    .dataframe tbody tr th {\n",
       "        vertical-align: top;\n",
       "    }\n",
       "\n",
       "    .dataframe thead th {\n",
       "        text-align: right;\n",
       "    }\n",
       "</style>\n",
       "<table border=\"1\" class=\"dataframe\">\n",
       "  <thead>\n",
       "    <tr style=\"text-align: right;\">\n",
       "      <th></th>\n",
       "      <th>31-35</th>\n",
       "      <th>26-30</th>\n",
       "      <th>21-25</th>\n",
       "      <th>41-45</th>\n",
       "      <th>36-40</th>\n",
       "      <th>46-50</th>\n",
       "    </tr>\n",
       "  </thead>\n",
       "  <tbody>\n",
       "    <tr>\n",
       "      <th>senior</th>\n",
       "      <td>0.272727</td>\n",
       "      <td>0.090909</td>\n",
       "      <td>0.090909</td>\n",
       "      <td>0.181818</td>\n",
       "      <td>0.181818</td>\n",
       "      <td>0.181818</td>\n",
       "    </tr>\n",
       "    <tr>\n",
       "      <th>junior</th>\n",
       "      <td>0.250000</td>\n",
       "      <td>0.333333</td>\n",
       "      <td>0.166667</td>\n",
       "      <td>0.083333</td>\n",
       "      <td>0.083333</td>\n",
       "      <td>0.083333</td>\n",
       "    </tr>\n",
       "  </tbody>\n",
       "</table>\n",
       "</div>"
      ],
      "text/plain": [
       "           31-35     26-30     21-25     41-45     36-40     46-50\n",
       "senior  0.272727  0.090909  0.090909  0.181818  0.181818  0.181818\n",
       "junior  0.250000  0.333333  0.166667  0.083333  0.083333  0.083333"
      ]
     },
     "execution_count": 8,
     "metadata": {},
     "output_type": "execute_result"
    }
   ],
   "source": [
    "def age_probs(data):\n",
    "    status_unique = data.status.unique()\n",
    "    age_unique = data.age.unique()\n",
    "    cond_prob = np.zeros((len(status_unique), len(age_unique)))\n",
    "    for a in range(0, len(status_unique)):\n",
    "        for b in range(0, len(age_unique)):\n",
    "            count = data.loc[(data['age'] == age_unique[b]) & (data['status'] == status_unique[a]),].shape[0] + laplace\n",
    "            total = sum(data[\"status\"] == status_unique[a]) + len(age_unique) * laplace\n",
    "            cond_prob[a][b] = count / total\n",
    "            \n",
    "    cond_prob = pd.DataFrame(cond_prob, columns=age_unique, index=status_unique)   \n",
    "    return cond_prob\n",
    "age_prob_df = age_probs(data)\n",
    "age_prob_df"
   ]
  },
  {
   "cell_type": "code",
   "execution_count": 9,
   "id": "accessible-pharmaceutical",
   "metadata": {},
   "outputs": [
    {
     "data": {
      "text/html": [
       "<div>\n",
       "<style scoped>\n",
       "    .dataframe tbody tr th:only-of-type {\n",
       "        vertical-align: middle;\n",
       "    }\n",
       "\n",
       "    .dataframe tbody tr th {\n",
       "        vertical-align: top;\n",
       "    }\n",
       "\n",
       "    .dataframe thead th {\n",
       "        text-align: right;\n",
       "    }\n",
       "</style>\n",
       "<table border=\"1\" class=\"dataframe\">\n",
       "  <thead>\n",
       "    <tr style=\"text-align: right;\">\n",
       "      <th></th>\n",
       "      <th>46k-50k</th>\n",
       "      <th>26k-30k</th>\n",
       "      <th>31k-35k</th>\n",
       "      <th>66k-70k</th>\n",
       "      <th>41k-45k</th>\n",
       "      <th>36k-40k</th>\n",
       "    </tr>\n",
       "  </thead>\n",
       "  <tbody>\n",
       "    <tr>\n",
       "      <th>senior</th>\n",
       "      <td>0.272727</td>\n",
       "      <td>0.090909</td>\n",
       "      <td>0.090909</td>\n",
       "      <td>0.272727</td>\n",
       "      <td>0.090909</td>\n",
       "      <td>0.181818</td>\n",
       "    </tr>\n",
       "    <tr>\n",
       "      <th>junior</th>\n",
       "      <td>0.250000</td>\n",
       "      <td>0.250000</td>\n",
       "      <td>0.166667</td>\n",
       "      <td>0.083333</td>\n",
       "      <td>0.166667</td>\n",
       "      <td>0.083333</td>\n",
       "    </tr>\n",
       "  </tbody>\n",
       "</table>\n",
       "</div>"
      ],
      "text/plain": [
       "         46k-50k   26k-30k   31k-35k   66k-70k   41k-45k   36k-40k\n",
       "senior  0.272727  0.090909  0.090909  0.272727  0.090909  0.181818\n",
       "junior  0.250000  0.250000  0.166667  0.083333  0.166667  0.083333"
      ]
     },
     "execution_count": 9,
     "metadata": {},
     "output_type": "execute_result"
    }
   ],
   "source": [
    "def salary_probs(data):\n",
    "    status_unique = data.status.unique()\n",
    "    salary_unique = data.salary.unique()\n",
    "    cond_prob = np.zeros((len(status_unique), len(salary_unique)))\n",
    "    for a in range(0, len(status_unique)):\n",
    "        for b in range(0, len(salary_unique)):\n",
    "            count = data.loc[(data['salary'] == salary_unique[b]) & (data['status'] == status_unique[a]),].shape[0] + laplace\n",
    "            total = sum(data[\"status\"] == status_unique[a]) + len(salary_unique) * laplace\n",
    "            cond_prob[a][b] = count / total\n",
    "            \n",
    "    cond_prob = pd.DataFrame(cond_prob, columns=salary_unique, index=status_unique)   \n",
    "    return cond_prob\n",
    "salary_prob_df = salary_probs(data)\n",
    "salary_prob_df"
   ]
  },
  {
   "cell_type": "code",
   "execution_count": 12,
   "id": "thorough-miller",
   "metadata": {},
   "outputs": [],
   "source": [
    "def prediction(dept, age, salary):\n",
    "    p0 = prior_probabality[0] * dept_prob_df[dept]['senior']*age_prob_df[age]['senior']*salary_prob_df[salary]['senior']\n",
    "    p1 = prior_probabality[1] * dept_prob_df[dept]['junior']*age_prob_df[age]['junior']*salary_prob_df[salary]['junior']\n",
    "    \n",
    "    if p0 > p1:\n",
    "        return 'senior', \n",
    "    else: \n",
    "        return 'junior'"
   ]
  },
  {
   "cell_type": "code",
   "execution_count": 13,
   "id": "hairy-cambridge",
   "metadata": {},
   "outputs": [
    {
     "data": {
      "text/plain": [
       "'senior'"
      ]
     },
     "execution_count": 13,
     "metadata": {},
     "output_type": "execute_result"
    }
   ],
   "source": [
    "prediction('marketing', '31-35', '46k-50k')"
   ]
  },
  {
   "cell_type": "code",
   "execution_count": 14,
   "id": "dedicated-option",
   "metadata": {},
   "outputs": [
    {
     "data": {
      "text/plain": [
       "'senior'"
      ]
     },
     "execution_count": 14,
     "metadata": {},
     "output_type": "execute_result"
    }
   ],
   "source": [
    "prediction('sales', '31-35', '66k-70k')"
   ]
  },
  {
   "cell_type": "code",
   "execution_count": 15,
   "id": "equipped-browser",
   "metadata": {},
   "outputs": [
    {
     "data": {
      "text/plain": [
       "'junior'"
      ]
     },
     "execution_count": 15,
     "metadata": {},
     "output_type": "execute_result"
    }
   ],
   "source": [
    "prediction('systems', '26-30', '46k-50k')"
   ]
  }
 ],
 "metadata": {
  "kernelspec": {
   "display_name": "Python 3",
   "language": "python",
   "name": "python3"
  },
  "language_info": {
   "codemirror_mode": {
    "name": "ipython",
    "version": 3
   },
   "file_extension": ".py",
   "mimetype": "text/x-python",
   "name": "python",
   "nbconvert_exporter": "python",
   "pygments_lexer": "ipython3",
   "version": "3.9.2"
  }
 },
 "nbformat": 4,
 "nbformat_minor": 5
}
